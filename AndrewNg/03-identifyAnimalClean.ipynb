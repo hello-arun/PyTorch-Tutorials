{
 "cells": [
  {
   "cell_type": "code",
   "execution_count": 1,
   "metadata": {
    "ExecuteTime": {
     "end_time": "2024-08-15T22:56:49.268095Z",
     "start_time": "2024-08-15T22:56:49.250283Z"
    }
   },
   "outputs": [
    {
     "name": "stdout",
     "output_type": "stream",
     "text": [
      "cuda\n"
     ]
    }
   ],
   "source": [
    "import matplotlib.pyplot as plt\n",
    "import torch\n",
    "from torch import nn\n",
    "from torch.nn import functional\n",
    "from torchvision.datasets import CIFAR10,MNIST\n",
    "from torchvision.transforms import ToTensor\n",
    "from torch.utils.data import random_split\n",
    "from torch.utils.data.dataloader import DataLoader\n",
    "torch.manual_seed(0)\n",
    "device = torch.device(\"cuda\" if torch.cuda.is_available() else \"cpu\")\n",
    "print(device)\n",
    "\n",
    "def to_device(data, device):\n",
    "    \"\"\"Move tensor(s) to chosen device\"\"\"\n",
    "    # print(\"This method called\")\n",
    "    if isinstance(data, (list,tuple)):\n",
    "        return [to_device(x, device) for x in data]\n",
    "    return data.to(device, non_blocking=True)"
   ]
  },
  {
   "cell_type": "markdown",
   "metadata": {},
   "source": [
    "**⚠️ Warning: PyTorch By Default Works on Row-Major Order**\n",
    "\n",
    "PyTorch typically follows the **row-major** order, meaning that multiple data points are appended along the **row axis** rather than the **column-axis** as we learned in the Andrew Ng course.\n"
   ]
  },
  {
   "cell_type": "code",
   "execution_count": 2,
   "metadata": {
    "ExecuteTime": {
     "end_time": "2024-08-15T22:56:50.174180Z",
     "start_time": "2024-08-15T22:56:49.297234Z"
    }
   },
   "outputs": [
    {
     "name": "stdout",
     "output_type": "stream",
     "text": [
      "torch.Size([1, 28, 28]) 5\n"
     ]
    },
    {
     "data": {
      "text/plain": [
       "(array([705.,   7.,   4.,   6.,   3.,   9.,   5.,   5.,   6.,  34.]),\n",
       " array([0.        , 0.1       , 0.2       , 0.30000001, 0.40000001,\n",
       "        0.5       , 0.60000002, 0.69999999, 0.80000001, 0.90000004,\n",
       "        1.        ]),\n",
       " <BarContainer object of 10 artists>)"
      ]
     },
     "execution_count": 2,
     "metadata": {},
     "output_type": "execute_result"
    },
    {
     "data": {
      "image/png": "[encoded data removed]",
      "text/plain": [
       "<Figure size 640x480 with 1 Axes>"
      ]
     },
     "metadata": {},
     "output_type": "display_data"
    }
   ],
   "source": [
    "# dataSet=CIFAR10(root=\"../raw\",train=True,transform=ToTensor())\n",
    "dataSet=MNIST(root=\"../raw\",train=True,transform=ToTensor())\n",
    "\n",
    "image,label=dataSet[11]\n",
    "nx=image.numel()\n",
    "print(image.shape,label)\n",
    "# fig,ax=plt.subplots()\n",
    "# ax.imshow(image.permute(1,2,0))\n",
    "# fig.set_size_inches(1,1)\n",
    "plt.hist(image.flatten())"
   ]
  },
  {
   "cell_type": "code",
   "execution_count": 3,
   "metadata": {
    "ExecuteTime": {
     "end_time": "2024-08-15T22:56:50.414796Z",
     "start_time": "2024-08-15T22:56:50.398340Z"
    }
   },
   "outputs": [
    {
     "data": {
      "text/plain": [
       "(50000, 10000)"
      ]
     },
     "execution_count": 3,
     "metadata": {},
     "output_type": "execute_result"
    }
   ],
   "source": [
    "val_size = 10000\n",
    "train_size = len(dataSet) - val_size\n",
    "\n",
    "train_ds, val_ds = random_split(dataSet, [train_size, val_size])\n",
    "len(train_ds), len(val_ds)"
   ]
  },
  {
   "cell_type": "markdown",
   "metadata": {},
   "source": [
    "As you know this dataset is not that huge, in reality the dataset can be much much\n",
    "larger than this one and so we need to have batch size, that determines how much data we want to process at once. We need DataLoader that only loads and process the data based on the batch size. "
   ]
  },
  {
   "cell_type": "code",
   "execution_count": 4,
   "metadata": {
    "ExecuteTime": {
     "end_time": "2024-08-15T22:56:50.509538Z",
     "start_time": "2024-08-15T22:56:50.503202Z"
    }
   },
   "outputs": [],
   "source": [
    "batch_size=128\n",
    "train_loader = DataLoader(train_ds, batch_size, shuffle=True, num_workers=0, pin_memory=True)\n",
    "val_loader = DataLoader(val_ds, batch_size, num_workers=0, pin_memory=True)"
   ]
  },
  {
   "cell_type": "code",
   "execution_count": 5,
   "metadata": {
    "ExecuteTime": {
     "end_time": "2024-08-15T22:56:59.927142Z",
     "start_time": "2024-08-15T22:56:50.554794Z"
    }
   },
   "outputs": [
    {
     "name": "stdout",
     "output_type": "stream",
     "text": [
      "torch.Size([128, 1, 28, 28])\n"
     ]
    }
   ],
   "source": [
    "for imgs, lbls in train_loader:\n",
    "    print(imgs.shape)\n",
    "    break"
   ]
  },
  {
   "cell_type": "code",
   "execution_count": 6,
   "metadata": {
    "ExecuteTime": {
     "end_time": "2024-08-15T22:57:00.704293Z",
     "start_time": "2024-08-15T22:57:00.668709Z"
    }
   },
   "outputs": [],
   "source": [
    "class Cifar10Model(nn.Module):\n",
    "    \"\"\"Feedforward neural network with 3 hidden layer\"\"\"\n",
    "    def __init__(self, input_size, hidden_size1,hidden_size2,hidden_size3, output_size):\n",
    "        super().__init__()\n",
    "        self.linear1 = nn.Linear(input_size, hidden_size1)\n",
    "        self.linear2 = nn.Linear(hidden_size1, hidden_size2)\n",
    "        self.linear3 = nn.Linear(hidden_size2, hidden_size3)\n",
    "        self.linear4 = nn.Linear(hidden_size3, output_size)\n",
    "    \n",
    "    def forward(self, x):\n",
    "        # flatten the given image\n",
    "        x = x.view(x.size(0), -1)\n",
    "        out = self.linear1(x)\n",
    "        out = functional.relu(out)\n",
    "        out = self.linear2(out)\n",
    "        out = functional.relu(out)\n",
    "        out = self.linear3(out)\n",
    "        out = functional.relu(out)\n",
    "        out = self.linear4(out)\n",
    "        return out\n",
    "    \n",
    "    def accuracy(self, output, target):\n",
    "        _, preds = torch.max(output, dim=1)\n",
    "        return torch.tensor(torch.sum(preds == target).item() / preds.numel())\n",
    "    \n",
    "    def training_step(self, batch):\n",
    "        imgs,labels = batch\n",
    "        out = self.forward(imgs)\n",
    "        loss = functional.cross_entropy(out,labels)\n",
    "        return loss\n",
    "    \n",
    "    def validation_step(self, batch):\n",
    "        imgs,labels = batch\n",
    "        out = self.forward(imgs)\n",
    "        loss = functional.cross_entropy(out,labels)\n",
    "        acc = self.accuracy(out, labels)\n",
    "        return {'val_loss': loss, 'val_acc': acc}\n",
    "    \n",
    "    def validation_epoch_end(self, outputs):\n",
    "        batch_losses = [x['val_loss'] for x in outputs]\n",
    "        epoch_loss = torch.stack(batch_losses).mean()   # Combine losses\n",
    "        batch_accs = [x['val_acc'] for x in outputs]\n",
    "        epoch_acc = torch.stack(batch_accs).mean()      # Combine accuracies\n",
    "        return {'val_loss': epoch_loss.item(), 'val_acc': epoch_acc.item()}\n",
    "    \n",
    "    def epoch_end(self, epoch, result):\n",
    "        print(f\"Epoch [{epoch}], val_loss: {result['val_loss']:.4f}, val_acc: {result['val_acc']:.4f}\")       \n",
    "        "
   ]
  },
  {
   "cell_type": "code",
   "execution_count": 7,
   "metadata": {
    "ExecuteTime": {
     "end_time": "2024-08-15T22:57:00.790055Z",
     "start_time": "2024-08-15T22:57:00.767604Z"
    }
   },
   "outputs": [
    {
     "name": "stdout",
     "output_type": "stream",
     "text": [
      "torch.Size([128, 784])\n",
      "torch.Size([128])\n",
      "torch.Size([64, 128])\n",
      "torch.Size([64])\n",
      "torch.Size([32, 64])\n",
      "torch.Size([32])\n",
      "torch.Size([10, 32])\n",
      "torch.Size([10])\n"
     ]
    }
   ],
   "source": [
    "model = Cifar10Model(input_size=nx,hidden_size1=128,hidden_size2=64,hidden_size3=32,output_size=10)\n",
    "for param in model.parameters():\n",
    "    print(param.shape)"
   ]
  },
  {
   "cell_type": "code",
   "execution_count": 8,
   "metadata": {
    "ExecuteTime": {
     "end_time": "2024-08-15T22:57:00.858017Z",
     "start_time": "2024-08-15T22:57:00.846222Z"
    }
   },
   "outputs": [],
   "source": [
    "class DeviceDataLoader():\n",
    "    \"\"\"Wrap a dataloader to move data to a device\"\"\"\n",
    "    def __init__(self, dl, device):\n",
    "        self.dl = dl\n",
    "        self.device = device\n",
    "        \n",
    "    def __iter__(self):\n",
    "        \"\"\"Yield a batch of data after moving it to device\"\"\"\n",
    "        for b in self.dl: \n",
    "            yield to_device(b, self.device)\n",
    "\n",
    "    def __len__(self):\n",
    "        \"\"\"Number of batches\"\"\"\n",
    "        return len(self.dl)\n"
   ]
  },
  {
   "cell_type": "code",
   "execution_count": 9,
   "metadata": {
    "ExecuteTime": {
     "end_time": "2024-08-15T22:57:00.918602Z",
     "start_time": "2024-08-15T22:57:00.909556Z"
    }
   },
   "outputs": [],
   "source": [
    "train_loader = DeviceDataLoader(train_loader, device)\n",
    "val_loader = DeviceDataLoader(val_loader, device)"
   ]
  },
  {
   "cell_type": "code",
   "execution_count": 10,
   "metadata": {
    "ExecuteTime": {
     "end_time": "2024-08-15T22:57:00.967756Z",
     "start_time": "2024-08-15T22:57:00.955481Z"
    }
   },
   "outputs": [],
   "source": [
    "def evaluate(model, val_loader):\n",
    "    \"\"\"Evaluate the model's performance on the validation set\"\"\"\n",
    "    outputs = [model.validation_step(batch) for batch in val_loader]\n",
    "    return model.validation_epoch_end(outputs)\n",
    "\n",
    "def fit(epochs, lr, model, train_loader, val_loader, opt_func=torch.optim.SGD):\n",
    "    \"\"\"Train the model using gradient descent\"\"\"\n",
    "    history = []\n",
    "    optimizer = opt_func(model.parameters(), lr)\n",
    "    for epoch in range(epochs):\n",
    "        # Training Phase \n",
    "        for batch in train_loader:\n",
    "            loss = model.training_step(batch)\n",
    "            loss.backward()\n",
    "            optimizer.step()\n",
    "            optimizer.zero_grad()\n",
    "        # Validation phase\n",
    "        result = evaluate(model, val_loader)\n",
    "        model.epoch_end(epoch, result)\n",
    "        history.append(result)\n",
    "    return history"
   ]
  },
  {
   "cell_type": "code",
   "execution_count": 11,
   "metadata": {
    "ExecuteTime": {
     "end_time": "2024-08-15T22:57:03.681938Z",
     "start_time": "2024-08-15T22:57:01.014478Z"
    }
   },
   "outputs": [
    {
     "data": {
      "text/plain": [
       "[{'val_loss': 2.309126853942871, 'val_acc': 0.09236550331115723}]"
      ]
     },
     "execution_count": 11,
     "metadata": {},
     "output_type": "execute_result"
    }
   ],
   "source": [
    "# Model (on GPU)\n",
    "model = to_device(model, device)\n",
    "history = [evaluate(model, val_loader)]\n",
    "history"
   ]
  },
  {
   "cell_type": "code",
   "execution_count": 12,
   "metadata": {
    "ExecuteTime": {
     "end_time": "2024-08-15T23:01:11.203648Z",
     "start_time": "2024-08-15T22:57:03.717172Z"
    }
   },
   "outputs": [
    {
     "name": "stdout",
     "output_type": "stream",
     "text": [
      "Epoch [0], val_loss: 0.5917, val_acc: 0.8222\n",
      "Epoch [1], val_loss: 0.4219, val_acc: 0.8710\n",
      "Epoch [2], val_loss: 0.3023, val_acc: 0.9112\n",
      "Epoch [3], val_loss: 0.2551, val_acc: 0.9267\n",
      "Epoch [4], val_loss: 0.2111, val_acc: 0.9397\n",
      "Epoch [0], val_loss: 0.1876, val_acc: 0.9460\n",
      "Epoch [1], val_loss: 0.1829, val_acc: 0.9463\n",
      "Epoch [2], val_loss: 0.1761, val_acc: 0.9480\n",
      "Epoch [3], val_loss: 0.1746, val_acc: 0.9478\n",
      "Epoch [4], val_loss: 0.1666, val_acc: 0.9509\n"
     ]
    }
   ],
   "source": [
    "history += fit(5, 0.05, model, train_loader, val_loader)\n",
    "history += fit(5, 0.01, model, train_loader, val_loader)"
   ]
  },
  {
   "cell_type": "code",
   "execution_count": 13,
   "metadata": {},
   "outputs": [
    {
     "name": "stdout",
     "output_type": "stream",
     "text": [
      "Epoch [0], val_loss: 0.1542, val_acc: 0.9537\n",
      "Epoch [1], val_loss: 0.1463, val_acc: 0.9576\n",
      "Epoch [2], val_loss: 0.1353, val_acc: 0.9581\n",
      "Epoch [3], val_loss: 0.1337, val_acc: 0.9610\n",
      "Epoch [4], val_loss: 0.1302, val_acc: 0.9613\n"
     ]
    }
   ],
   "source": [
    "history += fit(5, 0.05, model, train_loader, val_loader)"
   ]
  }
 ],
 "metadata": {
  "kernelspec": {
   "display_name": "basic",
   "language": "python",
   "name": "python3"
  },
  "language_info": {
   "codemirror_mode": {
    "name": "ipython",
    "version": 3
   },
   "file_extension": ".py",
   "mimetype": "text/x-python",
   "name": "python",
   "nbconvert_exporter": "python",
   "pygments_lexer": "ipython3",
   "version": "3.12.5"
  }
 },
 "nbformat": 4,
 "nbformat_minor": 2
}
