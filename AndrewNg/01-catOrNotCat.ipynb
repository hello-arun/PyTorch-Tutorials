{
 "cells": [
  {
   "cell_type": "markdown",
   "metadata": {},
   "source": [
    "We will determine if a given image is of a cat or not. Images are obtained form [cifar-10](https://www.cs.toronto.edu/~kriz/cifar-10-python.tar.gz) dataset."
   ]
  },
  {
   "cell_type": "markdown",
   "metadata": {},
   "source": [
    "<img src=\"_ref/img.png\" alt=\"Image description\" style=\"width:20%;\">\n"
   ]
  },
  {
   "cell_type": "markdown",
   "metadata": {},
   "source": [
    "Let's say we have $m$ such images,\n",
    "\\begin{equation*}\n",
    "\\text{Training Set} :\\{(x^{(1)},y^{(1)}), (x^{(2)},y^{(2)}), \\cdots ,(x^{(m)},y^{(m)})\\}\n",
    "\\end{equation*}\n",
    "\n",
    "We separate the image and label in matrix form because it is computationally more efficient. So\n",
    "\n",
    "$$\n",
    "\\begin{align}\n",
    "  X &= \\begin{bmatrix}\n",
    "            \\vdots & \\vdots & \\cdots & \\vdots \\\\\n",
    "            x^{(1)} & x^{(2)} & \\cdots & x^{(m)} \\\\\n",
    "            \\vdots & \\vdots & \\cdots & \\vdots\n",
    "        \\end{bmatrix}_{n_x \\times m} \\nonumber \\\\\n",
    "  Y &= \\begin{bmatrix}\n",
    "            y^{(1)} & y^{(2)} & \\cdots & y^{(m)}\n",
    "        \\end{bmatrix}_{1 \\times m} \\nonumber \\\\\n",
    "  X &\\in \\mathbb{R}^{n_x \\times m}, \\quad Y \\in \\mathbb{R}^{1 \\times m}\n",
    "\\end{align}\n",
    "$$\n"
   ]
  },
  {
   "cell_type": "code",
   "execution_count": 1,
   "metadata": {},
   "outputs": [
    {
     "data": {
      "text/plain": [
       "<torch._C.Generator at 0x2a9e26ac570>"
      ]
     },
     "execution_count": 1,
     "metadata": {},
     "output_type": "execute_result"
    }
   ],
   "source": [
    "import pickle\n",
    "import matplotlib.pyplot as plt\n",
    "import torch\n",
    "import numpy as np\n",
    "from torchmetrics import ConfusionMatrix\n",
    "torch.manual_seed(0)"
   ]
  },
  {
   "cell_type": "code",
   "execution_count": 2,
   "metadata": {},
   "outputs": [
    {
     "name": "stdout",
     "output_type": "stream",
     "text": [
      "labels: [0, 1, 2, 3, 4, 5, 6, 7, 8, 9]\n",
      " m: 10000\n",
      "nx: 3072\n",
      "shape of X: torch.Size([3072, 10000])\n",
      "shape of Y: torch.Size([1, 10000])\n",
      "Random No: 6044\n"
     ]
    },
    {
     "data": {
      "text/plain": [
       "(np.float64(-0.5), np.float64(31.5), np.float64(31.5), np.float64(-0.5))"
      ]
     },
     "execution_count": 2,
     "metadata": {},
     "output_type": "execute_result"
    },
    {
     "data": {
      "image/png": "[encoded data removed]",
      "text/plain": [
       "<Figure size 200x200 with 1 Axes>"
      ]
     },
     "metadata": {},
     "output_type": "display_data"
    }
   ],
   "source": [
    "\n",
    "def unpickle(file):\n",
    "    with open(file, 'rb') as fo:\n",
    "        data = pickle.load(fo, encoding='bytes')\n",
    "    return data\n",
    "dataDict = unpickle(\"../raw/cifar-10-batches-py/data_batch_1\")\n",
    "\n",
    "# print(dataDict.keys())\n",
    "X=torch.tensor(dataDict[b'data']).T\n",
    "X=X.to(dtype=torch.float32)/255  # better to convert the range to 0 to 1 instead of 0 to 255 \n",
    "X = 2*X-1\n",
    "labels=torch.tensor(dataDict[b'labels']).view(1,-1)\n",
    "Y = (labels==3).to(dtype=torch.float) ## 0 if image is not cat 1 if it is cat\n",
    "# labels=\n",
    "m=len(Y[0])  # We will use all these images so this is m training test case\n",
    "nx = len(X)\n",
    "\n",
    "print(f\"labels:\",list(set(dataDict[b'labels'])))\n",
    "print(f\" m: {m}\")\n",
    "print(f\"nx: {nx}\")\n",
    "print(f\"shape of X: {X.shape}\")\n",
    "print(f\"shape of Y: {Y.shape}\")\n",
    "\n",
    "fig,ax=plt.subplots()\n",
    "fig.set_size_inches(2,2)\n",
    "randomImageNum = torch.randint(0,m,(1,)).item()\n",
    "print(f\"Random No: {randomImageNum}\")\n",
    "ax.imshow((X[:,randomImageNum].view(-1,1024).T.view(32,32,3)+1)/2)\n",
    "ax.set_title(f\"{Y[0,randomImageNum]}\")\n",
    "ax.axis(\"off\")"
   ]
  },
  {
   "cell_type": "markdown",
   "metadata": {},
   "source": [
    "So for a given image we want to calculate probability that it is of a cat. Mathematically we can write\n",
    "\\begin{equation}\n",
    "\\text{given}\\quad x\\in\\mathbb{R}^{{n_x}\\times 1}, \\text{want}\\quad \\hat{y}=P(y=1|x), \\quad 0 \\leq \\hat{y} \\leq 1\n",
    "\\end{equation}\n",
    "\n",
    "\n",
    "\\begin{equation}\n",
    "z=w^T\\cdot x+b \\quad|w\\in\\mathbb{R}^{n_x},  b \\in \\mathbb{R}\n",
    "\\end{equation}\n",
    "In fancy term these $w$ is called \\textit{weights} and $b$ is called \\textit{bias}.\n",
    "Also we want z to be in the [0,1] range so we add activation function \n",
    "\\begin{equation} \n",
    "a=\\hat{y}=\\sigma(z) = \\frac{1}{1+e^{-z}}\n",
    "\\end{equation}\n",
    "\n",
    "Loss/Error Functoin\n",
    "\n",
    "\\begin{equation} \n",
    "L(\\hat{y},y)= - (y\\log{ (\\hat{y})  }+(1-y)\\log{(1-\\hat{y})})\n",
    "\\end{equation}\n",
    "\n",
    "\n",
    "Cost Function\n",
    "\n",
    "So our task is to find $w,b$ which minimizes cost $J(w,b)$.\n",
    "\\begin{equation}\n",
    "J(w,b)=\\frac{1}{m}\\sum_{i=1}^{m}{L(\\hat{y}^{(i)},y^{(i)})}\n",
    "\\end{equation}\n"
   ]
  },
  {
   "cell_type": "code",
   "execution_count": 3,
   "metadata": {},
   "outputs": [],
   "source": [
    "def loss(y,A):\n",
    "    # return (y*y_hat)**2\n",
    "    return -(y*torch.log(A)+(1-y)*torch.log(1-A))"
   ]
  },
  {
   "cell_type": "code",
   "execution_count": 4,
   "metadata": {},
   "outputs": [],
   "source": [
    "def activation(z):\n",
    "    return 1/(1+torch.exp(-z))\n",
    "    # return torch.tanh(z)\n",
    "    # return torch.relu(z)"
   ]
  },
  {
   "cell_type": "code",
   "execution_count": 5,
   "metadata": {},
   "outputs": [],
   "source": [
    "def accuracy(y,A):\n",
    "    A_= (A>0.9).to(dtype=torch.float)\n",
    "    A_= torch.abs(y-A_)<1e-4\n",
    "    return A_.sum()/A_.numel()"
   ]
  },
  {
   "cell_type": "code",
   "execution_count": 6,
   "metadata": {},
   "outputs": [
    {
     "name": "stdout",
     "output_type": "stream",
     "text": [
      " m: 10000\n",
      "nx: 3072\n",
      "shape of X: torch.Size([3072, 10000])\n",
      "shape of Y: torch.Size([1, 10000])\n",
      "shape of Z: torch.Size([1, 10000])\n",
      "shape of A: torch.Size([1, 10000])\n",
      "shape of L: torch.Size([1, 10000])\n",
      "shape of J: torch.Size([])\n",
      "value of J: 1.7625203132629395\n",
      "value of z: tensor([-2.0119,  1.1864,  1.5722, -4.7944, -2.1123, -3.6311, -0.0662,  0.2167,\n",
      "         3.6946, -5.8888, -5.5305,  2.5801,  1.4581, -5.2086, -3.1885,  2.4981,\n",
      "         2.3088, -3.7344,  0.8785, -0.1498], grad_fn=<SliceBackward0>)\n",
      "value of A: tensor([0.1180, 0.7661, 0.8281, 0.0082, 0.1079, 0.0258, 0.4835, 0.5540, 0.9757,\n",
      "        0.0028, 0.0039, 0.9296, 0.8112, 0.0054, 0.0396, 0.9240, 0.9096, 0.0233,\n",
      "        0.7065, 0.4626], grad_fn=<SliceBackward0>)\n",
      "value of Y: tensor([0., 0., 0., 0., 0., 0., 0., 0., 0., 1., 0., 0., 0., 0., 0., 0., 0., 1.,\n",
      "        0., 0.])\n"
     ]
    },
    {
     "name": "stderr",
     "output_type": "stream",
     "text": [
      "C:\\Users\\jangi\\AppData\\Local\\Temp\\ipykernel_18916\\274238781.py:9: UserWarning: To copy construct from a tensor, it is recommended to use sourceTensor.clone().detach() or sourceTensor.clone().detach().requires_grad_(True), rather than torch.tensor(sourceTensor).\n",
      "  w=torch.tensor(torch.rand(nx,1)*0.01,requires_grad=True)\n",
      "C:\\Users\\jangi\\AppData\\Local\\Temp\\ipykernel_18916\\274238781.py:10: UserWarning: To copy construct from a tensor, it is recommended to use sourceTensor.clone().detach() or sourceTensor.clone().detach().requires_grad_(True), rather than torch.tensor(sourceTensor).\n",
      "  b = torch.tensor(torch.rand(1),requires_grad=True)\n"
     ]
    }
   ],
   "source": [
    "print(f\" m: {m}\")\n",
    "print(f\"nx: {nx}\")\n",
    "print(f\"shape of X: {X.shape}\")\n",
    "print(f\"shape of Y: {Y.shape}\")\n",
    "\n",
    "## initialize weights and bias matrx\n",
    "\n",
    "# w = torch.rand(nx,1,requires_grad=True)*0.01 # DO NOT EVER DO THIS\n",
    "w=torch.tensor(torch.rand(nx,1)*0.01,requires_grad=True)\n",
    "b = torch.tensor(torch.rand(1),requires_grad=True)\n",
    "z = w.T @ X + b\n",
    "A = activation(z)\n",
    "L = loss(Y,A)\n",
    "J = torch.sum(L)/m\n",
    "print(f\"shape of Z: {z.shape}\")\n",
    "print(f\"shape of A: {A.shape}\")\n",
    "print(f\"shape of L: {L.shape}\")\n",
    "print(f\"shape of J: {J.shape}\")\n",
    "print(f\"value of J: {J}\")\n",
    "\n",
    "print(f\"value of z: {z[0,0:20]}\")\n",
    "print(f\"value of A: {A[0,0:20]}\")\n",
    "print(f\"value of Y: {Y[0,0:20]}\")"
   ]
  },
  {
   "cell_type": "markdown",
   "metadata": {},
   "source": [
    "|                  | **Actual Positive** | **Actual Negative** |\n",
    "|------------------|---------------------|---------------------|\n",
    "| **Predicted Positive** | True Positive (TP)     | False Positive (FP)    |\n",
    "| **Predicted Negative** | False Negative (FN)    | True Negative (TN)     |\n"
   ]
  },
  {
   "cell_type": "code",
   "execution_count": 8,
   "metadata": {},
   "outputs": [
    {
     "name": "stdout",
     "output_type": "stream",
     "text": [
      "Iteration: 0   Cost: 0.34   Accucary:0.88\n",
      "minA: 0.00, maxA 1.00\n",
      "TN:8660, FP: 867\n",
      "FN: 324, TP: 149\n",
      "\n",
      "Iteration: 500 Cost: 0.33   Accucary:0.88\n",
      "minA: 0.00, maxA 1.00\n",
      "TN:8687, FP: 875\n",
      "FN: 297, TP: 141\n",
      "\n",
      "Iteration: 1000 Cost: 0.33   Accucary:0.88\n",
      "minA: 0.00, maxA 1.00\n",
      "TN:8712, FP: 882\n",
      "FN: 272, TP: 134\n",
      "\n",
      "Iteration: 1500 Cost: 0.33   Accucary:0.89\n",
      "minA: 0.00, maxA 1.00\n",
      "TN:8734, FP: 887\n",
      "FN: 250, TP: 129\n",
      "\n",
      "Iteration: 2000 Cost: 0.32   Accucary:0.89\n",
      "minA: 0.00, maxA 1.00\n",
      "TN:8760, FP: 894\n",
      "FN: 224, TP: 122\n",
      "\n",
      "Iteration: 2500 Cost: 0.32   Accucary:0.89\n",
      "minA: 0.00, maxA 1.00\n",
      "TN:8778, FP: 901\n",
      "FN: 206, TP: 115\n",
      "\n",
      "Iteration: 3000 Cost: 0.32   Accucary:0.89\n",
      "minA: 0.00, maxA 1.00\n",
      "TN:8795, FP: 905\n",
      "FN: 189, TP: 111\n",
      "\n",
      "Iteration: 3500 Cost: 0.31   Accucary:0.89\n",
      "minA: 0.00, maxA 1.00\n",
      "TN:8815, FP: 910\n",
      "FN: 169, TP: 106\n",
      "\n",
      "Iteration: 4000 Cost: 0.31   Accucary:0.89\n",
      "minA: 0.00, maxA 1.00\n",
      "TN:8827, FP: 916\n",
      "FN: 157, TP: 100\n",
      "\n",
      "Iteration: 4500 Cost: 0.31   Accucary:0.89\n",
      "minA: 0.00, maxA 1.00\n",
      "TN:8832, FP: 921\n",
      "FN: 152, TP:  95\n",
      "\n",
      "Iteration: 5000 Cost: 0.31   Accucary:0.89\n",
      "minA: 0.00, maxA 1.00\n",
      "TN:8841, FP: 924\n",
      "FN: 143, TP:  92\n",
      "\n",
      "Iteration: 5500 Cost: 0.31   Accucary:0.89\n",
      "minA: 0.00, maxA 1.00\n",
      "TN:8845, FP: 927\n",
      "FN: 139, TP:  89\n",
      "\n",
      "Iteration: 6000 Cost: 0.30   Accucary:0.89\n",
      "minA: 0.00, maxA 1.00\n",
      "TN:8853, FP: 928\n",
      "FN: 131, TP:  88\n",
      "\n",
      "Iteration: 6500 Cost: 0.30   Accucary:0.89\n",
      "minA: 0.00, maxA 1.00\n",
      "TN:8860, FP: 930\n",
      "FN: 124, TP:  86\n",
      "\n",
      "Iteration: 7000 Cost: 0.30   Accucary:0.90\n",
      "minA: 0.00, maxA 1.00\n",
      "TN:8868, FP: 933\n",
      "FN: 116, TP:  83\n",
      "\n",
      "Iteration: 7500 Cost: 0.30   Accucary:0.90\n",
      "minA: 0.00, maxA 1.00\n",
      "TN:8877, FP: 935\n",
      "FN: 107, TP:  81\n",
      "\n",
      "Iteration: 8000 Cost: 0.30   Accucary:0.90\n",
      "minA: 0.00, maxA 1.00\n",
      "TN:8885, FP: 935\n",
      "FN:  99, TP:  81\n",
      "\n",
      "Iteration: 8500 Cost: 0.30   Accucary:0.90\n",
      "minA: 0.00, maxA 1.00\n",
      "TN:8891, FP: 937\n",
      "FN:  93, TP:  79\n",
      "\n",
      "Iteration: 9000 Cost: 0.30   Accucary:0.90\n",
      "minA: 0.00, maxA 1.00\n",
      "TN:8895, FP: 941\n",
      "FN:  89, TP:  75\n",
      "\n",
      "Iteration: 9500 Cost: 0.30   Accucary:0.90\n",
      "minA: 0.00, maxA 1.00\n",
      "TN:8900, FP: 943\n",
      "FN:  84, TP:  73\n",
      "\n"
     ]
    }
   ],
   "source": [
    "alpha=0.001\n",
    "confmat = ConfusionMatrix(task=\"binary\",num_classes=2)\n",
    "for i in range(10000):\n",
    "    J.backward()\n",
    "    with torch.no_grad():  # Disable gradient tracking during update\n",
    "        w -= alpha * w.grad\n",
    "        b -= alpha * b.grad\n",
    "        w.grad.zero_()\n",
    "        b.grad.zero_()\n",
    "    z=w.T@X+b\n",
    "    A = activation(z)\n",
    "    L = loss(Y,A)\n",
    "    J = torch.sum(L)/m\n",
    "    if i%500 == 0:\n",
    "        # print(A[0,0:20])\n",
    "        # print(Y[0,0:20])\n",
    "        # Compute confusion matrix\n",
    "        cm = confmat(Y, (A>0.5).to(dtype=torch.float32))\n",
    "        accuracy = (cm[0,0]+cm[1,1])/torch.sum(cm)\n",
    "        print(f\"Iteration: {i:<3d} Cost: {J:<6.2f} Accucary:{accuracy:.2f}\")\n",
    "        print(f\"minA: {torch.min(A).item():0.2f}, maxA {torch.max(A).item():0.2f}\")\n",
    "        \n",
    "        print(f\"TN:{cm[0,0]:>4}, FP:{cm[0,1]:>4}\")\n",
    "        print(f\"FN:{cm[1,0]:>4}, TP:{cm[1,1]:>4}\\n\")"
   ]
  }
 ],
 "metadata": {
  "kernelspec": {
   "display_name": "basic",
   "language": "python",
   "name": "python3"
  },
  "language_info": {
   "codemirror_mode": {
    "name": "ipython",
    "version": 3
   },
   "file_extension": ".py",
   "mimetype": "text/x-python",
   "name": "python",
   "nbconvert_exporter": "python",
   "pygments_lexer": "ipython3",
   "version": "3.12.5"
  }
 },
 "nbformat": 4,
 "nbformat_minor": 2
}
